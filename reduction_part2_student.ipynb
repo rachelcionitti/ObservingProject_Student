{
 "cells": [
  {
   "cell_type": "markdown",
   "metadata": {},
   "source": [
    "<h2>OBSERVATIONAL ASTROPHYSICS – FALL 2019 Reduction Exercise: Part 2</h2>\n",
    "\n",
    "In Part 1 you inspected your images.  Some of you made a master bias frame.  We have since found out that the bias frames contain residual structure that we don't understand and we will therefore only subtract the darks, which contain the bias already.\n",
    "\n",
    "In Part 2 you will will:\n",
    "\n",
    "1. combine your dark frames (which include their own bias);\n",
    "4. subtract the dark frame from each of your science and flat field images;\n",
    "5. make a combined flatfield image in each band;\n",
    "6. flatfield the individual flatfield images (as a check) and the science images;\n",
    "\n",
    "Remember that your raw data are stored in ~/RFSLAB/USER_DPT/_PUBLIC/ASTR596/Data/Raw/< your night>\n",
    "and your reduced images are stored in ~/RFSLAB/USER_DPT/< KUID>/ASTR596/Data/Reduced/< your_night> "
   ]
  },
  {
   "cell_type": "code",
   "execution_count": 1,
   "metadata": {},
   "outputs": [],
   "source": [
    "import numpy as np\n",
    "from astropy import units as u\n",
    "from astropy.nddata import CCDData\n",
    "import ccdproc\n",
    "from matplotlib import pyplot as plt\n",
    "from ccdproc import Combiner\n",
    "from astropy.io import ascii\n",
    "from astropy.io import fits\n",
    "import os"
   ]
  },
  {
   "cell_type": "markdown",
   "metadata": {},
   "source": [
    "<h4>Combine the darks</h4>\n",
    "\n",
    "We will combine the darks in the same way that we combined the bias frames in part1.  This is a section of code that you will need to run and do some modifications on."
   ]
  },
  {
   "cell_type": "code",
   "execution_count": 2,
   "metadata": {
    "scrolled": true
   },
   "outputs": [],
   "source": [
    "darklist = []\n",
    "darklist_180s_good = np.genfromtxt(\"C:/Users/19133/Documents/Obs/My repository/ObservingProject_Student/darklist_180s_good.txt\",dtype=None,encoding=None)\n",
    "path = \"C:/Users/19133/Documents/Obs/My repository/ObservingProject_Student/files/darklist\"\n",
    "for x in os.listdir(path):\n",
    "    \n",
    "    if (x in darklist_180s_good) == True:\n",
    "    \n",
    "        #read that into a CCDData object.  This allows you to specify a unit, which we indicate as \"adu\"\n",
    "        imstr = path + \"/\" + x\n",
    "        im = CCDData.read(imstr,unit = \"adu\")\n",
    "        fitsheader = fits.getheader(imstr)\n",
    "        #make a list of all the CCDData instances of each image\n",
    "        darklist = darklist + [im]\n",
    "    else: \n",
    "        pass \n",
    "\n",
    "darklist_comb = Combiner(darklist)\n",
    "\n",
    "#now create masks with sigma clipping algorithm\n",
    "#This creates a mask for each image that is the size of each image but which has 0 values\n",
    "#everywhere except those pixels in excess of low_thresh and high_thresh sigma from the median.\n",
    "#Those pixels get a value of 1\n",
    "#*************\n",
    "#given the number of pixels in your image how must you set high_thresh to avoid flagging more than\n",
    "#one pixel because of expected statistical variations.  Assume the noise is distributed like a Gaussian.\n",
    "darklist_comb.sigma_clipping(low_thresh=2, high_thresh=6 , func=np.ma.median)\n",
    "\n",
    "#Use these masks to combine the images.  This now becomes your master bias\n",
    "master_bias = darklist_comb.average_combine()\n",
    "\n",
    "#now write out the master bias\n",
    "redpath = \"C:/Users/19133/Documents/Obs/My repository/ObservingProject_Student/files/red\"\n",
    "masterbiaspath = redpath + '/master_dark.fit'\n",
    "master_bias.write(masterbiaspath,overwrite=True)"
   ]
  },
  {
   "cell_type": "markdown",
   "metadata": {},
   "source": [
    "This defines a routine that subtracts the dark frame from a list of images.  There is one command that I want you to modify after you read the manual for subtracting darks at https://ccdproc.readthedocs.io/en/latest/reduction_toolbox.html"
   ]
  },
  {
   "cell_type": "code",
   "execution_count": 5,
   "metadata": {},
   "outputs": [],
   "source": [
    "def dark_sub(rawpath, redpath, master_darkfile):\n",
    "    #go through each image in a list, subtract the master dark from that image, \n",
    "    #and write the image out again.\n",
    "    #imlist_name: the name of the file (without path) that contains the list of \n",
    "    #images to subtract the dark from\n",
    "    #rawpath: the path with the raw data\n",
    "    #redpath: the path of directory with your reduced data\n",
    "    #filepath: the path of the directory with the lists of files\n",
    "    #dark: the filename of the master dark\n",
    "\n",
    "    masterdarkpath = redpath + master_darkfile\n",
    "    master_dark = CCDData.read(masterdarkpath,unit = \"adu\")\n",
    "   \n",
    "    for x in os.listdir(rawpath):\n",
    "    \n",
    "            impath = rawpath + x\n",
    "            #load file into CCDData objet\n",
    "            im = CCDData.read(impath,unit = \"adu\")\n",
    "            #retrieve the fits header for each image\n",
    "            fitsheader = fits.getheader(impath)\n",
    "            print(fitsheader)\n",
    "            #convert EXPTIME to sec, as microsec is not supported by astropy.units\n",
    "            fitsheader['EXPTIME'] = fitsheader['EXPTIME'] / 1.e6\n",
    "\n",
    "            #***********  \n",
    "            #complete the appropriate expression from https://ccdproc.readthedocs.io/en/latest/reduction_toolbox.html\n",
    "            #subtract dark frame\n",
    "            \n",
    "            im_dsub = ccdproc.subtract_dark(im,master_dark,exposure_time='EXPTIME', exposure_unit=u.second,\n",
    "                                            scale=False)\n",
    "\n",
    "            #this attaches the fits header back to the ccddate object that will be written\n",
    "            im_dsub.header = fitsheader\n",
    "            #now write out the file\n",
    "            dsub_imname = imname.replace('.fit','d.fit',1)\n",
    "            #print(bsub_imname)\n",
    "            dsub_path = redpath + dsub_imname\n",
    "            im_dsub.write(dsub_path,overwrite=True)\n",
    "            line = fp.readline()\n",
    "\n"
   ]
  },
  {
   "cell_type": "markdown",
   "metadata": {},
   "source": [
    "<h4> subtract the darks </h4>\n",
    "\n",
    "This section of code is where you have to call the `dark_sub` function for each of your list of images.  The output will be a set of images in your `Reduced` directory that have the `d` suffix and have had the dark current subtracted.  \n",
    "\n",
    "The dark subtraction we implement on our flatfields is not correct because we don't have dark frames with the exposure time of our flat fields.  Subtracting a 180s exposure time dark frame is wrong but it's the best we can do."
   ]
  },
  {
   "cell_type": "code",
   "execution_count": 6,
   "metadata": {
    "scrolled": false
   },
   "outputs": [
    {
     "name": "stdout",
     "output_type": "stream",
     "text": [
      "INFO: using the unit adu passed to the FITS reader instead of the unit adu in the FITS file. [astropy.nddata.ccddata]\n",
      "SIMPLE  =                    T / C# FITS: 10/20/2021 12:03:57 AM                BITPIX  =                   16                                                  NAXIS   =                    2 / Dimensionality                                 NAXIS1  =                 2048                                                  NAXIS2  =                 2048                                                  SENSTEMP= '-274.0  '           / Sensor Temperature (C)                         CCD-TEMP=                  -15 / CCD Temperature (C)                            YORGSUBF=                    0 / Subframe origin on Y axis                      XORGSUBF=                    0 / Subframe origin on X axis                      YBINNING=                    2 / Binning factor used on the Y axis              XBINNING=                    2 / Binning factor used on the X axis              EXPTIME =             18000000 / Duration of exposure in 10us periods           FIRMVER =                   40 / Firmware Version                               IMGSTPRW=                 4095 / Image Stop Row                                 CAM-MODE= 'HDR Rolling Reset 2x2' / Camera Mode                                 ISFLTWL2=                    F / Is Filter Wheel 2 Used flag                    ISFLTWL1=                    F / Is Filter Wheel 1 Used flag                    ISCRTFRM=                    F / Is Corrected Frame flag                        ISSFTBIN=                    T / Is Software Binning flag                       ISMRGFRM=                    T / Is Merged Frame flag                           IMGSTPCL=                 4095 / Image Stop Column                              IMGTYPE =                    5 / The Image Type (ex. High Gain)                 SERIAL  = 'KL2613920'          / Camera serial number                           ISHIFRM =                    F / Is High Frame flag                             RECTARR =                    T / Rectangular Array                              FLTWLIN2=                    0 / Filter Wheel Index 2                           FLTWLIN1=                    0 / Filter Wheel Index 1                           FRMSTDTM=                    0 / Frame Stalled Time                             FRMSTDFG=                    F / Frame Stalled Flag                             HGONLYIM=                    F / High Gain Only image                           H_ADUE  =                    1 / High Gain ADUe value used                      MERGE_LO=                 1228 / Merge Line Offset used                         MERGE_GR=                20.23 / Merge GainRatio value used                     FLIBVER = '1.12.51 '           / LibFliPro Version                              PLOTVER = '1.2.82.0'           / FliPilot Version                               GEO_LONG=                    0 / [deg] Geocentric longitude                     GEO_LAT =                    0 / [deg] Geocentric latitude                      DATE    = '2021-10-20T04:03:57.181000' / File create date                       DATE-OBS= '2021-10-20T00:03:56.083 NOGPS' / Date of observation (capture)       GAIN    =                 16.5 / Gain Value                                     ISSTKFRM=                    F / Is Stacked Frame flag                          GPS_LOCK=                    F / GPS Present at Capture Time                    BSCALE  =                    1 / Linear factor in scaling equation              NONRWALL=                    F / Non-Row Alligned Image flag                    VRTDIRIN=                    F / Vertical Scan Direction Invert flag            HRZDIRIN=                    F / Horizontal Scan Direction Invert flag          LOWDARK =                    T / Low Dark Current flag                          LOWNOISE=                    F / Low Noise flag                                 HDR-MODE=                    T / Image captured in HDR Mode                     PXLORDIM=                    T / Pixel Ordered Image flag                       DEADPXCR=                    F / Dead Pixel Correction flag                     PRFPXPRW=                    0 / Number of Pre Reference pixels per row         RFPXLPRW=                    0 / Number of Post Reference pixels per row        SNRPXLDP=                   12 / Sensor Pixel Depth capability                  INSTRUME= 'KEPLER KL4040'      / Camera Model                                   METAVER =                    3 / Metadata Version                               SIGNED  =                    F / False if unsigned array type                   EXTEND  =                    T / Extensions are permitted                       BLKLVLAD=                15678 / Black Level Adjust value                       USSFTAVE=                    F / Shifted Averaging used flag                    BLKLVLSN=                   40 / Black Level Sun value                          SHUTCLDL=                    0 / Shutter Close Delay                            BKSDILL =                    F / Back Side Illuminated                          FPGATEMP=                  431 / FPGA Temperature (C)                           BASETEMP=                  207 / Heatsink Temperature (C)                       NUMDTCH =                    8 / Number Of Data Channels                        PSTREFRW=                    0 / Number of Post-Reference Rows                  PREREFRW=                    0 / Number of Pre-Reference Rows                   STRTEXRW=                    0 / Starting Exposure Row                          FRAMENUM=                    1 / Frame Number                                   TRKFRMPR=                    0 / Tracking Frames Per Image Frame                TRKSTPCL=                    0 / Tracking Stop Column                           TRKSTPRW=                    0 / Tracking Stop Row                              TRKSTRCL=                    0 / Tracking Start Column                          TRKSTRRW=                    0 / Tracking Start Row                             ILLSTPDL=                    0 / Illumination Stop Delay                        ILLSTRDL=                    0 / Illumination Start Delay                       SHUTOPDL=                   50 / Shutter Open Delay                             BZERO   =                32768 / Zero point in scaling equation                 END                                                                                                                                                                                                                                                                                                                                                                                                                                                                                                                                                                                                                                                                                                                                                                                                                                                                                                                                                                                                                                                                                                                                                                                                                                                                                                                                                                                                                                                                                                                                                                                                                                                                                                                                                                                                                                                                                                                                                                                                                                                                                                                                                                                                                                                                                                                                                                                                             \n"
     ]
    },
    {
     "ename": "KeyError",
     "evalue": "\"Keyword 'EXPTIME' not found.\"",
     "output_type": "error",
     "traceback": [
      "\u001b[1;31m---------------------------------------------------------------------------\u001b[0m",
      "\u001b[1;31mKeyError\u001b[0m                                  Traceback (most recent call last)",
      "\u001b[1;32m<ipython-input-6-7144cc058a0c>\u001b[0m in \u001b[0;36m<module>\u001b[1;34m\u001b[0m\n\u001b[0;32m      9\u001b[0m \u001b[1;31m#DARKs rawpath\u001b[0m\u001b[1;33m\u001b[0m\u001b[1;33m\u001b[0m\u001b[1;33m\u001b[0m\u001b[0m\n\u001b[0;32m     10\u001b[0m \u001b[0mrawpath\u001b[0m \u001b[1;33m=\u001b[0m \u001b[1;34m\"C:/Users/19133/Documents/Obs/My repository/ObservingProject_Student/files/darklist/\"\u001b[0m\u001b[1;33m\u001b[0m\u001b[1;33m\u001b[0m\u001b[0m\n\u001b[1;32m---> 11\u001b[1;33m \u001b[0mdark_sub\u001b[0m\u001b[1;33m(\u001b[0m\u001b[0mrawpath\u001b[0m\u001b[1;33m,\u001b[0m \u001b[0mredpath\u001b[0m\u001b[1;33m,\u001b[0m \u001b[0mmaster_darkfile\u001b[0m\u001b[1;33m)\u001b[0m\u001b[1;33m\u001b[0m\u001b[1;33m\u001b[0m\u001b[0m\n\u001b[0m\u001b[0;32m     12\u001b[0m \u001b[1;33m\u001b[0m\u001b[0m\n\u001b[0;32m     13\u001b[0m \u001b[1;31m#subtract master dark from flats.\u001b[0m\u001b[1;33m\u001b[0m\u001b[1;33m\u001b[0m\u001b[1;33m\u001b[0m\u001b[0m\n",
      "\u001b[1;32m<ipython-input-5-9e50d22e9664>\u001b[0m in \u001b[0;36mdark_sub\u001b[1;34m(rawpath, redpath, master_darkfile)\u001b[0m\n\u001b[0;32m     28\u001b[0m \u001b[1;33m\u001b[0m\u001b[0m\n\u001b[0;32m     29\u001b[0m             im_dsub = ccdproc.subtract_dark(im,master_dark,exposure_time='EXPTIME', exposure_unit=u.second,\n\u001b[1;32m---> 30\u001b[1;33m                                             scale=False)\n\u001b[0m\u001b[0;32m     31\u001b[0m \u001b[1;33m\u001b[0m\u001b[0m\n\u001b[0;32m     32\u001b[0m             \u001b[1;31m#this attaches the fits header back to the ccddate object that will be written\u001b[0m\u001b[1;33m\u001b[0m\u001b[1;33m\u001b[0m\u001b[1;33m\u001b[0m\u001b[0m\n",
      "\u001b[1;32m~\\Anaconda3\\lib\\site-packages\\ccdproc\\log_meta.py\u001b[0m in \u001b[0;36mwrapper\u001b[1;34m(*args, **kwd)\u001b[0m\n\u001b[0;32m     95\u001b[0m         \u001b[1;31m# Grab the logging keyword, if it is present.\u001b[0m\u001b[1;33m\u001b[0m\u001b[1;33m\u001b[0m\u001b[1;33m\u001b[0m\u001b[0m\n\u001b[0;32m     96\u001b[0m         \u001b[0mlog_result\u001b[0m \u001b[1;33m=\u001b[0m \u001b[0mkwd\u001b[0m\u001b[1;33m.\u001b[0m\u001b[0mpop\u001b[0m\u001b[1;33m(\u001b[0m\u001b[0m_LOG_ARGUMENT\u001b[0m\u001b[1;33m,\u001b[0m \u001b[1;32mTrue\u001b[0m\u001b[1;33m)\u001b[0m\u001b[1;33m\u001b[0m\u001b[1;33m\u001b[0m\u001b[0m\n\u001b[1;32m---> 97\u001b[1;33m         \u001b[0mresult\u001b[0m \u001b[1;33m=\u001b[0m \u001b[0mfunc\u001b[0m\u001b[1;33m(\u001b[0m\u001b[1;33m*\u001b[0m\u001b[0margs\u001b[0m\u001b[1;33m,\u001b[0m \u001b[1;33m**\u001b[0m\u001b[0mkwd\u001b[0m\u001b[1;33m)\u001b[0m\u001b[1;33m\u001b[0m\u001b[1;33m\u001b[0m\u001b[0m\n\u001b[0m\u001b[0;32m     98\u001b[0m \u001b[1;33m\u001b[0m\u001b[0m\n\u001b[0;32m     99\u001b[0m         \u001b[1;32mif\u001b[0m \u001b[1;32mnot\u001b[0m \u001b[0mlog_result\u001b[0m\u001b[1;33m:\u001b[0m\u001b[1;33m\u001b[0m\u001b[1;33m\u001b[0m\u001b[0m\n",
      "\u001b[1;32m~\\Anaconda3\\lib\\site-packages\\ccdproc\\core.py\u001b[0m in \u001b[0;36msubtract_dark\u001b[1;34m(ccd, master, dark_exposure, data_exposure, exposure_time, exposure_unit, scale)\u001b[0m\n\u001b[0;32m    659\u001b[0m         \u001b[1;32melse\u001b[0m\u001b[1;33m:\u001b[0m\u001b[1;33m\u001b[0m\u001b[1;33m\u001b[0m\u001b[0m\n\u001b[0;32m    660\u001b[0m             \u001b[0mdata_exposure\u001b[0m \u001b[1;33m=\u001b[0m \u001b[0mccd\u001b[0m\u001b[1;33m.\u001b[0m\u001b[0mheader\u001b[0m\u001b[1;33m[\u001b[0m\u001b[0mexposure_time\u001b[0m\u001b[1;33m]\u001b[0m\u001b[1;33m\u001b[0m\u001b[1;33m\u001b[0m\u001b[0m\n\u001b[1;32m--> 661\u001b[1;33m             \u001b[0mdark_exposure\u001b[0m \u001b[1;33m=\u001b[0m \u001b[0mmaster\u001b[0m\u001b[1;33m.\u001b[0m\u001b[0mheader\u001b[0m\u001b[1;33m[\u001b[0m\u001b[0mexposure_time\u001b[0m\u001b[1;33m]\u001b[0m\u001b[1;33m\u001b[0m\u001b[1;33m\u001b[0m\u001b[0m\n\u001b[0m\u001b[0;32m    662\u001b[0m \u001b[1;33m\u001b[0m\u001b[0m\n\u001b[0;32m    663\u001b[0m     if not (isinstance(dark_exposure, Quantity) and\n",
      "\u001b[1;32m~\\Anaconda3\\lib\\site-packages\\astropy\\io\\fits\\header.py\u001b[0m in \u001b[0;36m__getitem__\u001b[1;34m(self, key)\u001b[0m\n\u001b[0;32m    146\u001b[0m         \u001b[1;32melse\u001b[0m\u001b[1;33m:\u001b[0m\u001b[1;33m\u001b[0m\u001b[1;33m\u001b[0m\u001b[0m\n\u001b[0;32m    147\u001b[0m             \u001b[0mkeyword\u001b[0m \u001b[1;33m=\u001b[0m \u001b[0mkey\u001b[0m\u001b[1;33m\u001b[0m\u001b[1;33m\u001b[0m\u001b[0m\n\u001b[1;32m--> 148\u001b[1;33m         \u001b[0mcard\u001b[0m \u001b[1;33m=\u001b[0m \u001b[0mself\u001b[0m\u001b[1;33m.\u001b[0m\u001b[0m_cards\u001b[0m\u001b[1;33m[\u001b[0m\u001b[0mself\u001b[0m\u001b[1;33m.\u001b[0m\u001b[0m_cardindex\u001b[0m\u001b[1;33m(\u001b[0m\u001b[0mkey\u001b[0m\u001b[1;33m)\u001b[0m\u001b[1;33m]\u001b[0m\u001b[1;33m\u001b[0m\u001b[1;33m\u001b[0m\u001b[0m\n\u001b[0m\u001b[0;32m    149\u001b[0m         \u001b[1;32mif\u001b[0m \u001b[0mcard\u001b[0m\u001b[1;33m.\u001b[0m\u001b[0mfield_specifier\u001b[0m \u001b[1;32mis\u001b[0m \u001b[1;32mnot\u001b[0m \u001b[1;32mNone\u001b[0m \u001b[1;32mand\u001b[0m \u001b[0mkeyword\u001b[0m \u001b[1;33m==\u001b[0m \u001b[0mcard\u001b[0m\u001b[1;33m.\u001b[0m\u001b[0mrawkeyword\u001b[0m\u001b[1;33m:\u001b[0m\u001b[1;33m\u001b[0m\u001b[1;33m\u001b[0m\u001b[0m\n\u001b[0;32m    150\u001b[0m             \u001b[1;31m# This is RVKC; if only the top-level keyword was specified return\u001b[0m\u001b[1;33m\u001b[0m\u001b[1;33m\u001b[0m\u001b[1;33m\u001b[0m\u001b[0m\n",
      "\u001b[1;32m~\\Anaconda3\\lib\\site-packages\\astropy\\io\\fits\\header.py\u001b[0m in \u001b[0;36m_cardindex\u001b[1;34m(self, key)\u001b[0m\n\u001b[0;32m   1706\u001b[0m \u001b[1;33m\u001b[0m\u001b[0m\n\u001b[0;32m   1707\u001b[0m         \u001b[1;32mif\u001b[0m \u001b[1;32mnot\u001b[0m \u001b[0mindices\u001b[0m\u001b[1;33m:\u001b[0m\u001b[1;33m\u001b[0m\u001b[1;33m\u001b[0m\u001b[0m\n\u001b[1;32m-> 1708\u001b[1;33m             \u001b[1;32mraise\u001b[0m \u001b[0mKeyError\u001b[0m\u001b[1;33m(\u001b[0m\u001b[1;34mf\"Keyword {keyword!r} not found.\"\u001b[0m\u001b[1;33m)\u001b[0m\u001b[1;33m\u001b[0m\u001b[1;33m\u001b[0m\u001b[0m\n\u001b[0m\u001b[0;32m   1709\u001b[0m \u001b[1;33m\u001b[0m\u001b[0m\n\u001b[0;32m   1710\u001b[0m         \u001b[1;32mtry\u001b[0m\u001b[1;33m:\u001b[0m\u001b[1;33m\u001b[0m\u001b[1;33m\u001b[0m\u001b[0m\n",
      "\u001b[1;31mKeyError\u001b[0m: \"Keyword 'EXPTIME' not found.\""
     ]
    }
   ],
   "source": [
    "\n",
    "#**************\n",
    "#put in the appropriate file name for each of the flats and science frames\n",
    "#subtract bias from flats in each band (you will need two calls to this function)\n",
    "redpath = \"C:/Users/19133/Documents/Obs/My repository/ObservingProject_Student/files/red/\"\n",
    "\n",
    "master_darkfile = 'master_dark.fit'\n",
    "#subtract master dark from darks.  This just just a check to see how well the dark \n",
    "#current is subtracted from each dark frame.\n",
    "#DARKs rawpath \n",
    "rawpath = \"C:/Users/19133/Documents/Obs/My repository/ObservingProject_Student/files/darklist/\"\n",
    "dark_sub(rawpath, redpath, master_darkfile)\n",
    "\n",
    "#subtract master dark from flats.  \n",
    "#FLATS R rawpath\n",
    "rawpath = \"C:/Users/19133/Documents/Obs/My repository/ObservingProject_Student/files/flats_r/\"\n",
    "dark_sub(rawpath, redpath, master_darkfile)\n",
    "#FLATS G rawpath\n",
    "rawpath = rawpath = \"C:/Users/19133/Documents/Obs/My repository/ObservingProject_Student/files/flats_g/\"\n",
    "dark_sub(rawpath, redpath, master_darkfile)\n",
    "\n",
    "#subtract master dark from science frames\n",
    "rawpath = rawpath = \"C:/Users/19133/Documents/Obs/My repository/ObservingProject_Student/files/science/\"\n",
    "dark_sub(rawpath, redpath, master_darkfile)"
   ]
  },
  {
   "cell_type": "markdown",
   "metadata": {},
   "source": [
    "Now combine the flatfields into \"master flats\".  In this process you will scale each object to their mean before combining.  \n",
    "\n",
    "Here we will use a median combination instead of a sigma clipping combination.  In the cell below please describe why this is a good idea."
   ]
  },
  {
   "cell_type": "markdown",
   "metadata": {},
   "source": [
    "<h4>Your answer here:</h4>"
   ]
  },
  {
   "cell_type": "markdown",
   "metadata": {},
   "source": [
    "Towards the bottom of this routine we will be using a \"Lambda\" function to normalize our images.  These are small anonymous throw-away functions that are only used once in a code.  Their use is described here https://www.python-course.eu/python3_lambda.php.  "
   ]
  },
  {
   "cell_type": "code",
   "execution_count": null,
   "metadata": {},
   "outputs": [],
   "source": [
    "def master_flatmake(imlist_name, redpath, filepath, master_flatname):\n",
    "    #a function that makes a master flatfield, taking its flats from a list.  \n",
    "    #The process will be very similar to that for bias frames, though we \n",
    "    #1) normalize the frames before combining and \n",
    "    #2) make it a function as we may need to generate flats for mutliple bands\n",
    "\n",
    "    #imlist_name: the name of the file (without path) that contains the list of images that will be combined\n",
    "    #filepath: the path of the directory with the lists of files\n",
    "    #redpath: the path of directory with your reduced data\n",
    "    #master_flatname: the name of the combined master flatfield\n",
    "\n",
    "    imlistpath = filepath + imlist_name\n",
    "\n",
    "\n",
    "    #initialize list of flat frames\n",
    "    flat_imlist = []\n",
    "    #this way of opening the file ensures that it closes after the loop is done.\n",
    "    with open(imlistpath,'r') as fp:\n",
    "        #read first line\n",
    "        line = fp.readline()\n",
    "\n",
    "        #build the combine list of all images\n",
    "        #read every subsequent line\n",
    "        while line:\n",
    "            #this removes the trailing newline charactter and converts the output list to a scalar\n",
    "            imname = line.split()\n",
    "            imname = imname[0]\n",
    "        \n",
    "            #create the image name, including the path\n",
    "            imstr = redpath + imname\n",
    "            #read that into a CCDData object.  This allows you to specify a unit\n",
    "            im = CCDData.read(imstr)\n",
    "            #get the header for each image.  This will just get attached to the final combined image\n",
    "            fitsheader = fits.getheader(imstr)\n",
    "\n",
    "            #make a list of all the CCDData instances of each image\n",
    "            flat_imlist = flat_imlist + [im]\n",
    "\n",
    "            line = fp.readline()\n",
    "\n",
    "    #Combiner list of all flat images\n",
    "    flat_combiner = Combiner(flat_imlist)\n",
    "    \n",
    "    #######################################\n",
    "    #this is an anonymous throw away function that takes an argument and is intended\n",
    "    #to be used just once.  In this case, the scaling functionality of the combiner is \n",
    "    #set to scale by the inverse of the mean, so images with high counts get scaled down and\n",
    "    #images wtih low counts get scaled up\n",
    "    scaling_func = lambda arr: 1/np.ma.average(arr)\n",
    "    flat_combiner.scaling = scaling_func\n",
    "\n",
    "    #combine the scaled images\n",
    "    #****************\n",
    "    #insert appropriate expression from https://ccdproc.readthedocs.io/en/latest/image_combination.html for \n",
    "    #a median combination\n",
    "    master_flat = \n",
    "\n",
    "    #this attaches the fits header back to the ccddate object that will be written\n",
    "    master_flat.header = fitsheader\n",
    "    \n",
    "\n",
    "    #now write out the master flat\n",
    "    masterflatpath = redpath + master_flatname\n",
    "    master_flat.write(masterflatpath,overwrite=True)\n"
   ]
  },
  {
   "cell_type": "markdown",
   "metadata": {},
   "source": [
    "Now use this function to generate master flats.\n",
    "\n",
    "Before you do this, you will need to make files containing a list of all your dark subtracted skyflats.  With one list for each band.  You can call it flatlist_\\<filter\\>_dsub"
   ]
  },
  {
   "cell_type": "code",
   "execution_count": null,
   "metadata": {},
   "outputs": [],
   "source": [
    "#***********\n",
    "#make the appropriate calles to master_flatmake to make the flatfields.\n",
    "#You will need to provide the appropriate filename\n",
    "master_flatmake('', redpath, filepath, 'master_flat_g.fits')\n",
    "master_flatmake('', redpath, filepath, 'master_flat_r.fits')"
   ]
  },
  {
   "cell_type": "markdown",
   "metadata": {},
   "source": [
    "Write in the cell below how you can assess whether or not you have a good master flatfield.  What characteristics might you look for and does your master flatfield image have them."
   ]
  },
  {
   "cell_type": "markdown",
   "metadata": {},
   "source": [
    "<h4>Your answer goes here:</h4>"
   ]
  },
  {
   "cell_type": "markdown",
   "metadata": {},
   "source": [
    "-------------------------------\n",
    "Now we will flatfield all of our science images.  This is similar to the process for bias subtraction except that we will be dividing by the master flat, as opposed to subtracting the master bias."
   ]
  },
  {
   "cell_type": "code",
   "execution_count": null,
   "metadata": {},
   "outputs": [],
   "source": [
    "def flat_corr(imlist_name, redpath, filepath, masterflat_name):\n",
    "    #go through each image in a list, subtract the master bias from that image, and write the image out again.\n",
    "    #imlist_name: the name of the file (without path) that contains the list of images to subtract the bias from\n",
    "    #redpath: the path of directory with your reduced data\n",
    "    #master_name: the filename of the master flatfield\n",
    "\n",
    "    masterflat_path = redpath + masterflat_name\n",
    "    master_flat = CCDData.read(masterflat_path)\n",
    "    \n",
    "    imlistpath= filepath + imlist_name\n",
    "    with open(imlistpath,'r') as fp:\n",
    "        #read first line\n",
    "        line = fp.readline()\n",
    "\n",
    "        #read every subsequent line\n",
    "        while line:\n",
    "            #read in each file\n",
    "            imname = line.split()\n",
    "            imname = imname[0]\n",
    "            impath = redpath + imname\n",
    "            #load file into CCDData objet\n",
    "            im = CCDData.read(impath)\n",
    "            \n",
    "            #get the header for each image.  This will just get attached to the final combined image\n",
    "            fitsheader = fits.getheader(imstr)\n",
    "            \n",
    "            #***********  \n",
    "            #insert appropriate expression from https://ccdproc.readthedocs.io/en/latest/reduction_toolbox.html\n",
    "            #subtract bias frame\n",
    "            im_flat = \n",
    "\n",
    "            #this attaches the fits header back to the ccddate object that will be written\n",
    "            im_flat.header = fitsheader\n",
    "            #now write out the file\n",
    "            flat_imname = imname.replace('.fit','f.fit',1)\n",
    "\n",
    "            imflat_path = redpath + flat_imname\n",
    "            im_flat.write(imflat_path,overwrite=True)\n",
    "            line = fp.readline()\n",
    "\n"
   ]
  },
  {
   "cell_type": "code",
   "execution_count": null,
   "metadata": {},
   "outputs": [],
   "source": [
    "#flatfield correct all the flats\n",
    "flat_corr('', redpath, filepath, 'master_flat_g.fits')\n",
    "flat_corr('', redpath, filepath, 'master_flat_r.fits')\n",
    "\n",
    "#subtract bias from science frames\n",
    "flat_corr('',redpath, filepath, 'master_flat_g.fits')\n",
    "flat_corr('',redpath, filepath, 'master_flat_r.fits')"
   ]
  },
  {
   "cell_type": "markdown",
   "metadata": {},
   "source": [
    "In the cell below, I would like you comment on whether you think the flatfielded science images is good or not.  Try to be quantitative in your esimate.  You will need to look at the images in ds9.  *You can ignore the vignetting by the guider in this assessment.*"
   ]
  },
  {
   "cell_type": "markdown",
   "metadata": {},
   "source": [
    "<h4>Your answer goes here:</h4>"
   ]
  }
 ],
 "metadata": {
  "kernelspec": {
   "display_name": "Python 3",
   "language": "python",
   "name": "python3"
  },
  "language_info": {
   "codemirror_mode": {
    "name": "ipython",
    "version": 3
   },
   "file_extension": ".py",
   "mimetype": "text/x-python",
   "name": "python",
   "nbconvert_exporter": "python",
   "pygments_lexer": "ipython3",
   "version": "3.7.6"
  }
 },
 "nbformat": 4,
 "nbformat_minor": 2
}
